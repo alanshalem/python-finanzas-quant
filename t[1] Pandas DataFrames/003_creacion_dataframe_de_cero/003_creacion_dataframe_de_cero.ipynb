{
 "cells": [
  {
   "cell_type": "markdown",
   "metadata": {},
   "source": [
    "# Creación de un DataFrame de cero\n",
    "\n",
    "Muchas veces nos vamos a ver en la necesidad de ir armando nuestros DataFrames a veces de cero e ir llenándolos, y a veces partiendo de listas, diccionarios o estructuras similares, empecemos a ver algunos casos.\n",
    "\n",
    "### Creación de un DataFrame a partir de una lista de listas\n",
    "\n",
    "Supongamos que partimos a partir de esta lista de datos:\n"
   ]
  },
  {
   "cell_type": "code",
   "execution_count": 177,
   "metadata": {},
   "outputs": [],
   "source": [
    "data = [[\"ALUA\", 19.15], [\"BBAR\", 73.70], [\"BMA\", 144.4], [\"BYMA\", 234]]"
   ]
  },
  {
   "cell_type": "markdown",
   "metadata": {},
   "source": [
    "Y ahora quiero armar un DataFrame en la variable \"tabla\" con esta estructura que tiene tickers y sus precios.\n",
    "\n",
    "Bien, es tan sencillo como esto:\n",
    "\n",
    "1. Asignamos a la variable \"tabla\" el objeto pandas.DataFrame\n",
    "2. Pasamos como primer argumento del DataFrame los datos (variable \"data\")\n",
    "3. Le indicamos en el primer argumento \"columns\" los nombres de las columnas\n"
   ]
  },
  {
   "cell_type": "code",
   "execution_count": 178,
   "metadata": {},
   "outputs": [
    {
     "data": {
      "text/html": [
       "<div>\n",
       "<style scoped>\n",
       "    .dataframe tbody tr th:only-of-type {\n",
       "        vertical-align: middle;\n",
       "    }\n",
       "\n",
       "    .dataframe tbody tr th {\n",
       "        vertical-align: top;\n",
       "    }\n",
       "\n",
       "    .dataframe thead th {\n",
       "        text-align: right;\n",
       "    }\n",
       "</style>\n",
       "<table border=\"1\" class=\"dataframe\">\n",
       "  <thead>\n",
       "    <tr style=\"text-align: right;\">\n",
       "      <th></th>\n",
       "      <th>Ticker</th>\n",
       "      <th>Precio</th>\n",
       "    </tr>\n",
       "  </thead>\n",
       "  <tbody>\n",
       "    <tr>\n",
       "      <th>0</th>\n",
       "      <td>ALUA</td>\n",
       "      <td>19.15</td>\n",
       "    </tr>\n",
       "    <tr>\n",
       "      <th>1</th>\n",
       "      <td>BBAR</td>\n",
       "      <td>73.70</td>\n",
       "    </tr>\n",
       "    <tr>\n",
       "      <th>2</th>\n",
       "      <td>BMA</td>\n",
       "      <td>144.40</td>\n",
       "    </tr>\n",
       "    <tr>\n",
       "      <th>3</th>\n",
       "      <td>BYMA</td>\n",
       "      <td>234.00</td>\n",
       "    </tr>\n",
       "  </tbody>\n",
       "</table>\n",
       "</div>"
      ],
      "text/plain": [
       "  Ticker  Precio\n",
       "0   ALUA   19.15\n",
       "1   BBAR   73.70\n",
       "2    BMA  144.40\n",
       "3   BYMA  234.00"
      ]
     },
     "execution_count": 178,
     "metadata": {},
     "output_type": "execute_result"
    }
   ],
   "source": [
    "import pandas as pd\n",
    "data = [[\"ALUA\", 19.15], [\"BBAR\", 73.70], [\"BMA\", 144.4], [\"BYMA\", 234]]\n",
    "tabla=pd.DataFrame(data, columns=[\"Ticker\", \"Precio\"])\n",
    "tabla"
   ]
  },
  {
   "cell_type": "markdown",
   "metadata": {},
   "source": [
    "También podemos crear el DataFrame de forma muy sencilla a partir de un diccionario. En este caso ni siquiera hace falta que le pasemos los nombres de las columnas ya que los toma del mismo diccionario\n"
   ]
  },
  {
   "cell_type": "markdown",
   "metadata": {},
   "source": [
    "### Creación de DataFrames a partir de Diccionarios\n"
   ]
  },
  {
   "cell_type": "code",
   "execution_count": 179,
   "metadata": {},
   "outputs": [
    {
     "data": {
      "text/html": [
       "<div>\n",
       "<style scoped>\n",
       "    .dataframe tbody tr th:only-of-type {\n",
       "        vertical-align: middle;\n",
       "    }\n",
       "\n",
       "    .dataframe tbody tr th {\n",
       "        vertical-align: top;\n",
       "    }\n",
       "\n",
       "    .dataframe thead th {\n",
       "        text-align: right;\n",
       "    }\n",
       "</style>\n",
       "<table border=\"1\" class=\"dataframe\">\n",
       "  <thead>\n",
       "    <tr style=\"text-align: right;\">\n",
       "      <th></th>\n",
       "      <th>Tickers</th>\n",
       "      <th>Precios</th>\n",
       "    </tr>\n",
       "  </thead>\n",
       "  <tbody>\n",
       "    <tr>\n",
       "      <th>0</th>\n",
       "      <td>ALUA</td>\n",
       "      <td>19.15</td>\n",
       "    </tr>\n",
       "    <tr>\n",
       "      <th>1</th>\n",
       "      <td>BBAR</td>\n",
       "      <td>73.70</td>\n",
       "    </tr>\n",
       "    <tr>\n",
       "      <th>2</th>\n",
       "      <td>BMA</td>\n",
       "      <td>144.40</td>\n",
       "    </tr>\n",
       "    <tr>\n",
       "      <th>3</th>\n",
       "      <td>BYMA</td>\n",
       "      <td>234.00</td>\n",
       "    </tr>\n",
       "  </tbody>\n",
       "</table>\n",
       "</div>"
      ],
      "text/plain": [
       "  Tickers  Precios\n",
       "0    ALUA    19.15\n",
       "1    BBAR    73.70\n",
       "2     BMA   144.40\n",
       "3    BYMA   234.00"
      ]
     },
     "execution_count": 179,
     "metadata": {},
     "output_type": "execute_result"
    }
   ],
   "source": [
    "import pandas as pd\n",
    "data = {'Tickers': ['ALUA', 'BBAR', 'BMA', 'BYMA'], \n",
    "        'Precios': [19.15, 73.70, 144.40, 234.00]}\n",
    "tabla=pd.DataFrame(data)\n",
    "tabla"
   ]
  },
  {
   "cell_type": "markdown",
   "metadata": {},
   "source": [
    "Asimismo, le podemos pasar un indice personalizado (una lista de elementos que tenga la misma cantidad de elementos que \"data\")\n"
   ]
  },
  {
   "cell_type": "code",
   "execution_count": 180,
   "metadata": {},
   "outputs": [
    {
     "data": {
      "text/html": [
       "<div>\n",
       "<style scoped>\n",
       "    .dataframe tbody tr th:only-of-type {\n",
       "        vertical-align: middle;\n",
       "    }\n",
       "\n",
       "    .dataframe tbody tr th {\n",
       "        vertical-align: top;\n",
       "    }\n",
       "\n",
       "    .dataframe thead th {\n",
       "        text-align: right;\n",
       "    }\n",
       "</style>\n",
       "<table border=\"1\" class=\"dataframe\">\n",
       "  <thead>\n",
       "    <tr style=\"text-align: right;\">\n",
       "      <th></th>\n",
       "      <th>Tickers</th>\n",
       "      <th>Precios</th>\n",
       "    </tr>\n",
       "  </thead>\n",
       "  <tbody>\n",
       "    <tr>\n",
       "      <th>activo_1</th>\n",
       "      <td>ALUA</td>\n",
       "      <td>19.15</td>\n",
       "    </tr>\n",
       "    <tr>\n",
       "      <th>activo_2</th>\n",
       "      <td>BBAR</td>\n",
       "      <td>73.70</td>\n",
       "    </tr>\n",
       "    <tr>\n",
       "      <th>activo_3</th>\n",
       "      <td>BMA</td>\n",
       "      <td>144.40</td>\n",
       "    </tr>\n",
       "    <tr>\n",
       "      <th>activo_4</th>\n",
       "      <td>BYMA</td>\n",
       "      <td>234.00</td>\n",
       "    </tr>\n",
       "  </tbody>\n",
       "</table>\n",
       "</div>"
      ],
      "text/plain": [
       "         Tickers  Precios\n",
       "activo_1    ALUA    19.15\n",
       "activo_2    BBAR    73.70\n",
       "activo_3     BMA   144.40\n",
       "activo_4    BYMA   234.00"
      ]
     },
     "execution_count": 180,
     "metadata": {},
     "output_type": "execute_result"
    }
   ],
   "source": [
    "data = {'Tickers': ['ALUA', 'BBAR', 'BMA', 'BYMA'], \n",
    "        'Precios': [19.15, 73.70, 144.40, 234.00]}\n",
    "tabla = pd.DataFrame(data, index=[\"activo_1\", \"activo_2\", \"activo_3\", \"activo_4\"])\n",
    "tabla"
   ]
  },
  {
   "cell_type": "markdown",
   "metadata": {},
   "source": [
    "### Creación a partir de una lista de diccionarios\n",
    "\n",
    "Esta estructura de entrada es mas rara, pero también es posible recibir datos de esta forma algún dia y por suerte pandas se encarga de transformar todo esto en un DataFrame de la misma forma sencilla\n"
   ]
  },
  {
   "cell_type": "code",
   "execution_count": 181,
   "metadata": {},
   "outputs": [
    {
     "data": {
      "text/html": [
       "<div>\n",
       "<style scoped>\n",
       "    .dataframe tbody tr th:only-of-type {\n",
       "        vertical-align: middle;\n",
       "    }\n",
       "\n",
       "    .dataframe tbody tr th {\n",
       "        vertical-align: top;\n",
       "    }\n",
       "\n",
       "    .dataframe thead th {\n",
       "        text-align: right;\n",
       "    }\n",
       "</style>\n",
       "<table border=\"1\" class=\"dataframe\">\n",
       "  <thead>\n",
       "    <tr style=\"text-align: right;\">\n",
       "      <th></th>\n",
       "      <th>ticker</th>\n",
       "      <th>Precio</th>\n",
       "      <th>Tipo</th>\n",
       "    </tr>\n",
       "  </thead>\n",
       "  <tbody>\n",
       "    <tr>\n",
       "      <th>0</th>\n",
       "      <td>ALUA</td>\n",
       "      <td>19.75</td>\n",
       "      <td>Acción</td>\n",
       "    </tr>\n",
       "    <tr>\n",
       "      <th>1</th>\n",
       "      <td>BBAR</td>\n",
       "      <td>73.70</td>\n",
       "      <td>Acción</td>\n",
       "    </tr>\n",
       "    <tr>\n",
       "      <th>2</th>\n",
       "      <td>BMA</td>\n",
       "      <td>144.40</td>\n",
       "      <td>NaN</td>\n",
       "    </tr>\n",
       "    <tr>\n",
       "      <th>3</th>\n",
       "      <td>BYMA</td>\n",
       "      <td>234.00</td>\n",
       "      <td>Acción</td>\n",
       "    </tr>\n",
       "  </tbody>\n",
       "</table>\n",
       "</div>"
      ],
      "text/plain": [
       "  ticker  Precio    Tipo\n",
       "0   ALUA   19.75  Acción\n",
       "1   BBAR   73.70  Acción\n",
       "2    BMA  144.40     NaN\n",
       "3   BYMA  234.00  Acción"
      ]
     },
     "execution_count": 181,
     "metadata": {},
     "output_type": "execute_result"
    }
   ],
   "source": [
    "data = [{\"ticker\": \"ALUA\", 'Precio': 19.75, \"Tipo\": \"Acción\"},\n",
    "        {\"ticker\": \"BBAR\", 'Precio': 73.7, \"Tipo\": \"Acción\"},\n",
    "        {\"ticker\": \"BMA\", 'Precio': 144.4},\n",
    "        {\"ticker\": \"BYMA\", 'Precio': 234, \"Tipo\": \"Acción\"},\n",
    "        ]\n",
    "\n",
    "tabla = pd.DataFrame(data)\n",
    "tabla"
   ]
  },
  {
   "cell_type": "markdown",
   "metadata": {},
   "source": [
    "También puedo al crearla definir que columnas quiero\n"
   ]
  },
  {
   "cell_type": "code",
   "execution_count": 182,
   "metadata": {},
   "outputs": [
    {
     "data": {
      "text/html": [
       "<div>\n",
       "<style scoped>\n",
       "    .dataframe tbody tr th:only-of-type {\n",
       "        vertical-align: middle;\n",
       "    }\n",
       "\n",
       "    .dataframe tbody tr th {\n",
       "        vertical-align: top;\n",
       "    }\n",
       "\n",
       "    .dataframe thead th {\n",
       "        text-align: right;\n",
       "    }\n",
       "</style>\n",
       "<table border=\"1\" class=\"dataframe\">\n",
       "  <thead>\n",
       "    <tr style=\"text-align: right;\">\n",
       "      <th></th>\n",
       "      <th>ticker</th>\n",
       "      <th>Precio</th>\n",
       "    </tr>\n",
       "  </thead>\n",
       "  <tbody>\n",
       "    <tr>\n",
       "      <th>0</th>\n",
       "      <td>ALUA</td>\n",
       "      <td>19.75</td>\n",
       "    </tr>\n",
       "    <tr>\n",
       "      <th>1</th>\n",
       "      <td>BBAR</td>\n",
       "      <td>73.70</td>\n",
       "    </tr>\n",
       "    <tr>\n",
       "      <th>2</th>\n",
       "      <td>BMA</td>\n",
       "      <td>144.40</td>\n",
       "    </tr>\n",
       "    <tr>\n",
       "      <th>3</th>\n",
       "      <td>BYMA</td>\n",
       "      <td>234.00</td>\n",
       "    </tr>\n",
       "  </tbody>\n",
       "</table>\n",
       "</div>"
      ],
      "text/plain": [
       "  ticker  Precio\n",
       "0   ALUA   19.75\n",
       "1   BBAR   73.70\n",
       "2    BMA  144.40\n",
       "3   BYMA  234.00"
      ]
     },
     "execution_count": 182,
     "metadata": {},
     "output_type": "execute_result"
    }
   ],
   "source": [
    "data = [{\"ticker\": \"ALUA\", 'Precio': 19.75, \"Tipo\": \"Acción\"},\n",
    "        {\"ticker\": \"BBAR\", 'Precio': 73.7, \"Tipo\": \"Acción\"},\n",
    "        {\"ticker\": \"BMA\", 'Precio': 144.4},\n",
    "        {\"ticker\": \"BYMA\", 'Precio': 234, \"Tipo\": \"Acción\"},\n",
    "        ]\n",
    "\n",
    "tabla = pd.DataFrame(data, columns=[\"ticker\", \"Precio\"])\n",
    "tabla"
   ]
  },
  {
   "cell_type": "markdown",
   "metadata": {},
   "source": [
    "### Creación a partir de otro DataFrame\n",
    "\n",
    "Partiendo de un DataFrame se puede armar otro con las columnas especificas que le pasemos e incluso en la misma linea podemos definir cual va a ser el indice del DataFrame nuevo\n"
   ]
  },
  {
   "cell_type": "code",
   "execution_count": 183,
   "metadata": {},
   "outputs": [
    {
     "data": {
      "text/html": [
       "<div>\n",
       "<style scoped>\n",
       "    .dataframe tbody tr th:only-of-type {\n",
       "        vertical-align: middle;\n",
       "    }\n",
       "\n",
       "    .dataframe tbody tr th {\n",
       "        vertical-align: top;\n",
       "    }\n",
       "\n",
       "    .dataframe thead th {\n",
       "        text-align: right;\n",
       "    }\n",
       "</style>\n",
       "<table border=\"1\" class=\"dataframe\">\n",
       "  <thead>\n",
       "    <tr style=\"text-align: right;\">\n",
       "      <th></th>\n",
       "      <th>open</th>\n",
       "      <th>close</th>\n",
       "    </tr>\n",
       "    <tr>\n",
       "      <th>timestamp</th>\n",
       "      <th></th>\n",
       "      <th></th>\n",
       "    </tr>\n",
       "  </thead>\n",
       "  <tbody>\n",
       "    <tr>\n",
       "      <th>2020-03-06</th>\n",
       "      <td>282.00</td>\n",
       "      <td>289.03</td>\n",
       "    </tr>\n",
       "    <tr>\n",
       "      <th>2020-03-05</th>\n",
       "      <td>295.52</td>\n",
       "      <td>292.92</td>\n",
       "    </tr>\n",
       "    <tr>\n",
       "      <th>2020-03-04</th>\n",
       "      <td>296.44</td>\n",
       "      <td>302.74</td>\n",
       "    </tr>\n",
       "    <tr>\n",
       "      <th>2020-03-03</th>\n",
       "      <td>303.67</td>\n",
       "      <td>289.32</td>\n",
       "    </tr>\n",
       "  </tbody>\n",
       "</table>\n",
       "</div>"
      ],
      "text/plain": [
       "              open   close\n",
       "timestamp                 \n",
       "2020-03-06  282.00  289.03\n",
       "2020-03-05  295.52  292.92\n",
       "2020-03-04  296.44  302.74\n",
       "2020-03-03  303.67  289.32"
      ]
     },
     "execution_count": 183,
     "metadata": {},
     "output_type": "execute_result"
    }
   ],
   "source": [
    "data = pd.read_excel('AAPL.xlsx', sheet_name=\"Hoja1\")\n",
    "copia = data[['timestamp', 'open', 'close']].copy().set_index(\"timestamp\")\n",
    "\n",
    "copia.head(4)"
   ]
  },
  {
   "cell_type": "markdown",
   "metadata": {},
   "source": [
    "Algo idéntico produce el método .filter(), al que le pasamos como argumento la lista de columnas."
   ]
  },
  {
   "cell_type": "code",
   "execution_count": 184,
   "metadata": {},
   "outputs": [
    {
     "data": {
      "text/html": [
       "<div>\n",
       "<style scoped>\n",
       "    .dataframe tbody tr th:only-of-type {\n",
       "        vertical-align: middle;\n",
       "    }\n",
       "\n",
       "    .dataframe tbody tr th {\n",
       "        vertical-align: top;\n",
       "    }\n",
       "\n",
       "    .dataframe thead th {\n",
       "        text-align: right;\n",
       "    }\n",
       "</style>\n",
       "<table border=\"1\" class=\"dataframe\">\n",
       "  <thead>\n",
       "    <tr style=\"text-align: right;\">\n",
       "      <th></th>\n",
       "      <th>open</th>\n",
       "      <th>close</th>\n",
       "    </tr>\n",
       "    <tr>\n",
       "      <th>timestamp</th>\n",
       "      <th></th>\n",
       "      <th></th>\n",
       "    </tr>\n",
       "  </thead>\n",
       "  <tbody>\n",
       "    <tr>\n",
       "      <th>2020-03-06</th>\n",
       "      <td>282.00</td>\n",
       "      <td>289.03</td>\n",
       "    </tr>\n",
       "    <tr>\n",
       "      <th>2020-03-05</th>\n",
       "      <td>295.52</td>\n",
       "      <td>292.92</td>\n",
       "    </tr>\n",
       "    <tr>\n",
       "      <th>2020-03-04</th>\n",
       "      <td>296.44</td>\n",
       "      <td>302.74</td>\n",
       "    </tr>\n",
       "    <tr>\n",
       "      <th>2020-03-03</th>\n",
       "      <td>303.67</td>\n",
       "      <td>289.32</td>\n",
       "    </tr>\n",
       "  </tbody>\n",
       "</table>\n",
       "</div>"
      ],
      "text/plain": [
       "              open   close\n",
       "timestamp                 \n",
       "2020-03-06  282.00  289.03\n",
       "2020-03-05  295.52  292.92\n",
       "2020-03-04  296.44  302.74\n",
       "2020-03-03  303.67  289.32"
      ]
     },
     "execution_count": 184,
     "metadata": {},
     "output_type": "execute_result"
    }
   ],
   "source": [
    "data = pd.read_excel('AAPL.xlsx', sheet_name=\"Hoja1\")\n",
    "copia = data.filter(['timestamp', 'open', 'close']).set_index(\"timestamp\")\n",
    "\n",
    "copia.head(4)"
   ]
  },
  {
   "cell_type": "markdown",
   "metadata": {},
   "source": [
    "Algo parecido pero \"al revés\" sería crear la copia a partir del original MENOS las columnas que no queremos."
   ]
  },
  {
   "cell_type": "code",
   "execution_count": 185,
   "metadata": {},
   "outputs": [
    {
     "data": {
      "text/html": [
       "<div>\n",
       "<style scoped>\n",
       "    .dataframe tbody tr th:only-of-type {\n",
       "        vertical-align: middle;\n",
       "    }\n",
       "\n",
       "    .dataframe tbody tr th {\n",
       "        vertical-align: top;\n",
       "    }\n",
       "\n",
       "    .dataframe thead th {\n",
       "        text-align: right;\n",
       "    }\n",
       "</style>\n",
       "<table border=\"1\" class=\"dataframe\">\n",
       "  <thead>\n",
       "    <tr style=\"text-align: right;\">\n",
       "      <th></th>\n",
       "      <th>timestamp</th>\n",
       "      <th>open</th>\n",
       "      <th>close</th>\n",
       "      <th>volume</th>\n",
       "    </tr>\n",
       "  </thead>\n",
       "  <tbody>\n",
       "    <tr>\n",
       "      <th>0</th>\n",
       "      <td>2020-03-06</td>\n",
       "      <td>282.00</td>\n",
       "      <td>289.03</td>\n",
       "      <td>56544246</td>\n",
       "    </tr>\n",
       "    <tr>\n",
       "      <th>1</th>\n",
       "      <td>2020-03-05</td>\n",
       "      <td>295.52</td>\n",
       "      <td>292.92</td>\n",
       "      <td>46893219</td>\n",
       "    </tr>\n",
       "    <tr>\n",
       "      <th>2</th>\n",
       "      <td>2020-03-04</td>\n",
       "      <td>296.44</td>\n",
       "      <td>302.74</td>\n",
       "      <td>54794568</td>\n",
       "    </tr>\n",
       "    <tr>\n",
       "      <th>3</th>\n",
       "      <td>2020-03-03</td>\n",
       "      <td>303.67</td>\n",
       "      <td>289.32</td>\n",
       "      <td>79868852</td>\n",
       "    </tr>\n",
       "    <tr>\n",
       "      <th>4</th>\n",
       "      <td>2020-03-02</td>\n",
       "      <td>282.28</td>\n",
       "      <td>298.81</td>\n",
       "      <td>85349339</td>\n",
       "    </tr>\n",
       "  </tbody>\n",
       "</table>\n",
       "</div>"
      ],
      "text/plain": [
       "   timestamp    open   close    volume\n",
       "0 2020-03-06  282.00  289.03  56544246\n",
       "1 2020-03-05  295.52  292.92  46893219\n",
       "2 2020-03-04  296.44  302.74  54794568\n",
       "3 2020-03-03  303.67  289.32  79868852\n",
       "4 2020-03-02  282.28  298.81  85349339"
      ]
     },
     "execution_count": 185,
     "metadata": {},
     "output_type": "execute_result"
    }
   ],
   "source": [
    "data = pd.read_excel('AAPL.xlsx', sheet_name=\"Hoja1\")\n",
    "copia = data.drop(['high', 'low', 'adjusted_close'], axis=1)\n",
    "\n",
    "copia.head()"
   ]
  },
  {
   "cell_type": "markdown",
   "metadata": {},
   "source": [
    "### Ejercicios\n",
    "\n",
    "1- Abrir el archivo AAPL.xlsx, generar un DataFrame igual agregando una columna que contenga la variación porcentual intradiaria (entre precio de apertura y cierre sobre el precio de apertura)"
   ]
  },
  {
   "cell_type": "code",
   "execution_count": 186,
   "metadata": {},
   "outputs": [],
   "source": [
    "import pandas as pd\n",
    "\n",
    "# Cargar el archivo Excel\n",
    "archivo_excel = 'AAPL.xlsx'\n",
    "df = pd.read_excel(archivo_excel)\n",
    "\n",
    "# Calcular la variación porcentual intradiaria\n",
    "df['Variación Intradiaria (%)'] = ((df['close'] - df['open']) / df['open']) * 100\n"
   ]
  },
  {
   "cell_type": "markdown",
   "metadata": {},
   "source": [
    "2- Mostrar la tabla en pantalla, de manera que solo muestre 2 decimales de la columna calculada, y que solo muestre las dos primeras y las dos ultimas filas.\n"
   ]
  },
  {
   "cell_type": "code",
   "execution_count": 187,
   "metadata": {},
   "outputs": [
    {
     "name": "stdout",
     "output_type": "stream",
     "text": [
      "      timestamp    open    high     low   close  adjusted_close    volume  \\\n",
      "0    2020-03-06  282.00  290.82  281.23  289.03          289.03  56544246   \n",
      "1    2020-03-05  295.52  299.55  291.41  292.92          292.92  46893219   \n",
      "5031 2000-03-07  126.44  127.44  121.12  122.87            3.81   2437600   \n",
      "5032 2000-03-06  126.00  129.13  125.00  125.69            3.90   1880000   \n",
      "\n",
      "      Variación Intradiaria (%)  \n",
      "0                          2.49  \n",
      "1                         -0.88  \n",
      "5031                      -2.82  \n",
      "5032                      -0.25  \n"
     ]
    }
   ],
   "source": [
    "import pandas as pd\n",
    "\n",
    "# Cargar el archivo Excel\n",
    "archivo_excel = 'AAPL.xlsx'\n",
    "df = pd.read_excel(archivo_excel)\n",
    "\n",
    "# Calcular la variación porcentual intradiaria\n",
    "df['Variación Intradiaria (%)'] = ((df['close'] - df['open']) / df['open']) * 100\n",
    "\n",
    "# Redondear la columna calculada a 2 decimales\n",
    "df['Variación Intradiaria (%)'] = df['Variación Intradiaria (%)'].round(2)\n",
    "\n",
    "# Mostrar las dos primeras y dos últimas filas\n",
    "resultado = pd.concat([df.head(2), df.tail(2)])\n",
    "print(resultado)\n"
   ]
  },
  {
   "cell_type": "markdown",
   "metadata": {},
   "source": [
    "3- Guardar la tabla en un archivo llamado AAPL_ej.xlsx en la hoja llamada Ej3, y guardar solo las columnas de la fecha y la variación intradiaria que acabamos de calcular.\n",
    "Ayuda: Para indicarle al método to_excel que columnas quiero guardar puedo usar el atributo \"columns\""
   ]
  },
  {
   "cell_type": "code",
   "execution_count": 188,
   "metadata": {},
   "outputs": [],
   "source": [
    "import pandas as pd\n",
    "\n",
    "# Cargar el archivo Excel\n",
    "archivo_excel = 'AAPL.xlsx'\n",
    "df = pd.read_excel(archivo_excel)\n",
    "\n",
    "# Calcular la variación porcentual intradiaria\n",
    "df['Variación Intradiaria (%)'] = ((df.close - df.open) / df.open) * 100\n",
    "\n",
    "# Redondear la columna calculada a 2 decimales\n",
    "df['Variación Intradiaria (%)'] = df['Variación Intradiaria (%)'].round(2)\n",
    "\n",
    "# Seleccionar solo las columnas de la fecha y la variación intradiaria\n",
    "# df_resultado = df[['timestamp', 'Variación Intradiaria (%)']]\n",
    "\n",
    "# Guardar el DataFrame en un nuevo archivo Excel\n",
    "# df_resultado.to_excel('AAPL_ej.xlsx', sheet_name='Ej3', index=False)\n",
    "\n",
    "df.to_excel('AAPL_ej.xlsx', sheet_name='Ej3', index=False, columns=['timestamp', 'Variación Intradiaria (%)'])"
   ]
  }
 ],
 "metadata": {
  "kernelspec": {
   "display_name": "base",
   "language": "python",
   "name": "python3"
  },
  "language_info": {
   "codemirror_mode": {
    "name": "ipython",
    "version": 3
   },
   "file_extension": ".py",
   "mimetype": "text/x-python",
   "name": "python",
   "nbconvert_exporter": "python",
   "pygments_lexer": "ipython3",
   "version": "3.12.4"
  }
 },
 "nbformat": 4,
 "nbformat_minor": 2
}
