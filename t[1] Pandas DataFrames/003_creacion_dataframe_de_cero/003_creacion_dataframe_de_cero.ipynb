{
 "cells": [
  {
   "cell_type": "markdown",
   "metadata": {},
   "source": [
    "# Creación de un DataFrame de cero\n",
    "\n",
    "Muchas veces nos vamos a ver en la necesidad de ir armando nuestros DataFrames a veces de cero e ir llenándolos, y a veces partiendo de listas, diccionarios o estructuras similares, empecemos a ver algunos casos.\n",
    "\n",
    "### Creación de un DataFrame a partir de una lista de listas\n",
    "\n",
    "Supongamos que partimos a partir de esta lista de datos:\n"
   ]
  },
  {
   "cell_type": "code",
   "execution_count": 1,
   "metadata": {},
   "outputs": [],
   "source": [
    "data = [[\"ALUA\", 19.15], [\"BBAR\", 73.70], [\"BMA\", 144.4], [\"BYMA\", 234]]"
   ]
  },
  {
   "cell_type": "markdown",
   "metadata": {},
   "source": [
    "Y ahora quiero armar un DataFrame en la variable \"tabla\" con esta estructura que tiene tickers y sus precios.\n",
    "\n",
    "Bien, es tan sencillo como esto:\n",
    "\n",
    "1. Asignamos a la variable \"tabla\" el objeto pandas.DataFrame\n",
    "2. Pasamos como primer argumento del DataFrame los datos (variable \"data\")\n",
    "3. Le indicamos en el primer argumento \"columns\" los nombres de las columnas\n"
   ]
  },
  {
   "cell_type": "code",
   "execution_count": 2,
   "metadata": {},
   "outputs": [
    {
     "data": {
      "text/html": [
       "<div>\n",
       "<style scoped>\n",
       "    .dataframe tbody tr th:only-of-type {\n",
       "        vertical-align: middle;\n",
       "    }\n",
       "\n",
       "    .dataframe tbody tr th {\n",
       "        vertical-align: top;\n",
       "    }\n",
       "\n",
       "    .dataframe thead th {\n",
       "        text-align: right;\n",
       "    }\n",
       "</style>\n",
       "<table border=\"1\" class=\"dataframe\">\n",
       "  <thead>\n",
       "    <tr style=\"text-align: right;\">\n",
       "      <th></th>\n",
       "      <th>Ticker</th>\n",
       "      <th>Precio</th>\n",
       "    </tr>\n",
       "  </thead>\n",
       "  <tbody>\n",
       "    <tr>\n",
       "      <th>0</th>\n",
       "      <td>ALUA</td>\n",
       "      <td>19.15</td>\n",
       "    </tr>\n",
       "    <tr>\n",
       "      <th>1</th>\n",
       "      <td>BBAR</td>\n",
       "      <td>73.70</td>\n",
       "    </tr>\n",
       "    <tr>\n",
       "      <th>2</th>\n",
       "      <td>BMA</td>\n",
       "      <td>144.40</td>\n",
       "    </tr>\n",
       "    <tr>\n",
       "      <th>3</th>\n",
       "      <td>BYMA</td>\n",
       "      <td>234.00</td>\n",
       "    </tr>\n",
       "  </tbody>\n",
       "</table>\n",
       "</div>"
      ],
      "text/plain": [
       "  Ticker  Precio\n",
       "0   ALUA   19.15\n",
       "1   BBAR   73.70\n",
       "2    BMA  144.40\n",
       "3   BYMA  234.00"
      ]
     },
     "execution_count": 2,
     "metadata": {},
     "output_type": "execute_result"
    }
   ],
   "source": [
    "import pandas as pd\n",
    "data = [[\"ALUA\", 19.15], [\"BBAR\", 73.70], [\"BMA\", 144.4], [\"BYMA\", 234]]\n",
    "tabla=pd.DataFrame(data, columns=[\"Ticker\", \"Precio\"])\n",
    "tabla"
   ]
  },
  {
   "cell_type": "markdown",
   "metadata": {},
   "source": [
    "También podemos crear el DataFrame de forma muy sencilla a partir de un diccionario. En este caso ni siquiera hace falta que le pasemos los nombres de las columnas ya que los toma del mismo diccionario\n"
   ]
  },
  {
   "cell_type": "markdown",
   "metadata": {},
   "source": [
    "### Creación de DataFrames a partir de Diccionarios\n"
   ]
  },
  {
   "cell_type": "code",
   "execution_count": 3,
   "metadata": {},
   "outputs": [
    {
     "data": {
      "text/html": [
       "<div>\n",
       "<style scoped>\n",
       "    .dataframe tbody tr th:only-of-type {\n",
       "        vertical-align: middle;\n",
       "    }\n",
       "\n",
       "    .dataframe tbody tr th {\n",
       "        vertical-align: top;\n",
       "    }\n",
       "\n",
       "    .dataframe thead th {\n",
       "        text-align: right;\n",
       "    }\n",
       "</style>\n",
       "<table border=\"1\" class=\"dataframe\">\n",
       "  <thead>\n",
       "    <tr style=\"text-align: right;\">\n",
       "      <th></th>\n",
       "      <th>Tickers</th>\n",
       "      <th>Precios</th>\n",
       "    </tr>\n",
       "  </thead>\n",
       "  <tbody>\n",
       "    <tr>\n",
       "      <th>0</th>\n",
       "      <td>ALUA</td>\n",
       "      <td>19.15</td>\n",
       "    </tr>\n",
       "    <tr>\n",
       "      <th>1</th>\n",
       "      <td>BBAR</td>\n",
       "      <td>73.70</td>\n",
       "    </tr>\n",
       "    <tr>\n",
       "      <th>2</th>\n",
       "      <td>BMA</td>\n",
       "      <td>144.40</td>\n",
       "    </tr>\n",
       "    <tr>\n",
       "      <th>3</th>\n",
       "      <td>BYMA</td>\n",
       "      <td>234.00</td>\n",
       "    </tr>\n",
       "  </tbody>\n",
       "</table>\n",
       "</div>"
      ],
      "text/plain": [
       "  Tickers  Precios\n",
       "0    ALUA    19.15\n",
       "1    BBAR    73.70\n",
       "2     BMA   144.40\n",
       "3    BYMA   234.00"
      ]
     },
     "execution_count": 3,
     "metadata": {},
     "output_type": "execute_result"
    }
   ],
   "source": [
    "import pandas as pd\n",
    "data = {'Tickers': ['ALUA', 'BBAR', 'BMA', 'BYMA'], \n",
    "        'Precios': [19.15, 73.70, 144.40, 234.00]}\n",
    "tabla=pd.DataFrame(data)\n",
    "tabla"
   ]
  },
  {
   "cell_type": "markdown",
   "metadata": {},
   "source": [
    "Asimismo, le podemos pasar un indice personalizado (una lista de elementos que tenga la misma cantidad de elementos que \"data\")\n"
   ]
  },
  {
   "cell_type": "code",
   "execution_count": 4,
   "metadata": {},
   "outputs": [
    {
     "data": {
      "text/html": [
       "<div>\n",
       "<style scoped>\n",
       "    .dataframe tbody tr th:only-of-type {\n",
       "        vertical-align: middle;\n",
       "    }\n",
       "\n",
       "    .dataframe tbody tr th {\n",
       "        vertical-align: top;\n",
       "    }\n",
       "\n",
       "    .dataframe thead th {\n",
       "        text-align: right;\n",
       "    }\n",
       "</style>\n",
       "<table border=\"1\" class=\"dataframe\">\n",
       "  <thead>\n",
       "    <tr style=\"text-align: right;\">\n",
       "      <th></th>\n",
       "      <th>Tickers</th>\n",
       "      <th>Precios</th>\n",
       "    </tr>\n",
       "  </thead>\n",
       "  <tbody>\n",
       "    <tr>\n",
       "      <th>activo_1</th>\n",
       "      <td>ALUA</td>\n",
       "      <td>19.15</td>\n",
       "    </tr>\n",
       "    <tr>\n",
       "      <th>activo_2</th>\n",
       "      <td>BBAR</td>\n",
       "      <td>73.70</td>\n",
       "    </tr>\n",
       "    <tr>\n",
       "      <th>activo_3</th>\n",
       "      <td>BMA</td>\n",
       "      <td>144.40</td>\n",
       "    </tr>\n",
       "    <tr>\n",
       "      <th>activo_4</th>\n",
       "      <td>BYMA</td>\n",
       "      <td>234.00</td>\n",
       "    </tr>\n",
       "  </tbody>\n",
       "</table>\n",
       "</div>"
      ],
      "text/plain": [
       "         Tickers  Precios\n",
       "activo_1    ALUA    19.15\n",
       "activo_2    BBAR    73.70\n",
       "activo_3     BMA   144.40\n",
       "activo_4    BYMA   234.00"
      ]
     },
     "execution_count": 4,
     "metadata": {},
     "output_type": "execute_result"
    }
   ],
   "source": [
    "data = {'Tickers': ['ALUA', 'BBAR', 'BMA', 'BYMA'], \n",
    "        'Precios': [19.15, 73.70, 144.40, 234.00]}\n",
    "tabla = pd.DataFrame(data, index=[\"activo_1\", \"activo_2\", \"activo_3\", \"activo_4\"])\n",
    "tabla"
   ]
  },
  {
   "cell_type": "markdown",
   "metadata": {},
   "source": [
    "### Creación a partir de una lista de diccionarios\n",
    "\n",
    "Esta estructura de entrada es mas rara, pero también es posible recibir datos de esta forma algún dia y por suerte pandas se encarga de transformar todo esto en un DataFrame de la misma forma sencilla\n"
   ]
  },
  {
   "cell_type": "code",
   "execution_count": 5,
   "metadata": {},
   "outputs": [
    {
     "data": {
      "text/html": [
       "<div>\n",
       "<style scoped>\n",
       "    .dataframe tbody tr th:only-of-type {\n",
       "        vertical-align: middle;\n",
       "    }\n",
       "\n",
       "    .dataframe tbody tr th {\n",
       "        vertical-align: top;\n",
       "    }\n",
       "\n",
       "    .dataframe thead th {\n",
       "        text-align: right;\n",
       "    }\n",
       "</style>\n",
       "<table border=\"1\" class=\"dataframe\">\n",
       "  <thead>\n",
       "    <tr style=\"text-align: right;\">\n",
       "      <th></th>\n",
       "      <th>ticker</th>\n",
       "      <th>Precio</th>\n",
       "      <th>Tipo</th>\n",
       "    </tr>\n",
       "  </thead>\n",
       "  <tbody>\n",
       "    <tr>\n",
       "      <th>0</th>\n",
       "      <td>ALUA</td>\n",
       "      <td>19.75</td>\n",
       "      <td>Acción</td>\n",
       "    </tr>\n",
       "    <tr>\n",
       "      <th>1</th>\n",
       "      <td>BBAR</td>\n",
       "      <td>73.70</td>\n",
       "      <td>Acción</td>\n",
       "    </tr>\n",
       "    <tr>\n",
       "      <th>2</th>\n",
       "      <td>BMA</td>\n",
       "      <td>144.40</td>\n",
       "      <td>NaN</td>\n",
       "    </tr>\n",
       "    <tr>\n",
       "      <th>3</th>\n",
       "      <td>BYMA</td>\n",
       "      <td>234.00</td>\n",
       "      <td>Acción</td>\n",
       "    </tr>\n",
       "  </tbody>\n",
       "</table>\n",
       "</div>"
      ],
      "text/plain": [
       "  ticker  Precio    Tipo\n",
       "0   ALUA   19.75  Acción\n",
       "1   BBAR   73.70  Acción\n",
       "2    BMA  144.40     NaN\n",
       "3   BYMA  234.00  Acción"
      ]
     },
     "execution_count": 5,
     "metadata": {},
     "output_type": "execute_result"
    }
   ],
   "source": [
    "data = [{\"ticker\": \"ALUA\", 'Precio': 19.75, \"Tipo\": \"Acción\"},\n",
    "        {\"ticker\": \"BBAR\", 'Precio': 73.7, \"Tipo\": \"Acción\"},\n",
    "        {\"ticker\": \"BMA\", 'Precio': 144.4},\n",
    "        {\"ticker\": \"BYMA\", 'Precio': 234, \"Tipo\": \"Acción\"},\n",
    "        ]\n",
    "\n",
    "tabla = pd.DataFrame(data)\n",
    "tabla"
   ]
  },
  {
   "cell_type": "markdown",
   "metadata": {},
   "source": [
    "También puedo al crearla definir que columnas quiero\n"
   ]
  },
  {
   "cell_type": "code",
   "execution_count": 6,
   "metadata": {},
   "outputs": [
    {
     "data": {
      "text/html": [
       "<div>\n",
       "<style scoped>\n",
       "    .dataframe tbody tr th:only-of-type {\n",
       "        vertical-align: middle;\n",
       "    }\n",
       "\n",
       "    .dataframe tbody tr th {\n",
       "        vertical-align: top;\n",
       "    }\n",
       "\n",
       "    .dataframe thead th {\n",
       "        text-align: right;\n",
       "    }\n",
       "</style>\n",
       "<table border=\"1\" class=\"dataframe\">\n",
       "  <thead>\n",
       "    <tr style=\"text-align: right;\">\n",
       "      <th></th>\n",
       "      <th>ticker</th>\n",
       "      <th>Precio</th>\n",
       "    </tr>\n",
       "  </thead>\n",
       "  <tbody>\n",
       "    <tr>\n",
       "      <th>0</th>\n",
       "      <td>ALUA</td>\n",
       "      <td>19.75</td>\n",
       "    </tr>\n",
       "    <tr>\n",
       "      <th>1</th>\n",
       "      <td>BBAR</td>\n",
       "      <td>73.70</td>\n",
       "    </tr>\n",
       "    <tr>\n",
       "      <th>2</th>\n",
       "      <td>BMA</td>\n",
       "      <td>144.40</td>\n",
       "    </tr>\n",
       "    <tr>\n",
       "      <th>3</th>\n",
       "      <td>BYMA</td>\n",
       "      <td>234.00</td>\n",
       "    </tr>\n",
       "  </tbody>\n",
       "</table>\n",
       "</div>"
      ],
      "text/plain": [
       "  ticker  Precio\n",
       "0   ALUA   19.75\n",
       "1   BBAR   73.70\n",
       "2    BMA  144.40\n",
       "3   BYMA  234.00"
      ]
     },
     "execution_count": 6,
     "metadata": {},
     "output_type": "execute_result"
    }
   ],
   "source": [
    "data = [{\"ticker\": \"ALUA\", 'Precio': 19.75, \"Tipo\": \"Acción\"},\n",
    "        {\"ticker\": \"BBAR\", 'Precio': 73.7, \"Tipo\": \"Acción\"},\n",
    "        {\"ticker\": \"BMA\", 'Precio': 144.4},\n",
    "        {\"ticker\": \"BYMA\", 'Precio': 234, \"Tipo\": \"Acción\"},\n",
    "        ]\n",
    "\n",
    "tabla = pd.DataFrame(data, columns=[\"ticker\", \"Precio\"])\n",
    "tabla"
   ]
  },
  {
   "cell_type": "markdown",
   "metadata": {},
   "source": [
    "### Creación a partir de otro DataFrame\n",
    "\n",
    "Partiendo de un DataFrame se puede armar otro con las columnas especificas que le pasemos e incluso en la misma linea podemos definir cual va a ser el indice del DataFrame nuevo\n"
   ]
  },
  {
   "cell_type": "code",
   "execution_count": 7,
   "metadata": {},
   "outputs": [
    {
     "data": {
      "text/html": [
       "<div>\n",
       "<style scoped>\n",
       "    .dataframe tbody tr th:only-of-type {\n",
       "        vertical-align: middle;\n",
       "    }\n",
       "\n",
       "    .dataframe tbody tr th {\n",
       "        vertical-align: top;\n",
       "    }\n",
       "\n",
       "    .dataframe thead th {\n",
       "        text-align: right;\n",
       "    }\n",
       "</style>\n",
       "<table border=\"1\" class=\"dataframe\">\n",
       "  <thead>\n",
       "    <tr style=\"text-align: right;\">\n",
       "      <th></th>\n",
       "      <th>open</th>\n",
       "      <th>close</th>\n",
       "    </tr>\n",
       "    <tr>\n",
       "      <th>timestamp</th>\n",
       "      <th></th>\n",
       "      <th></th>\n",
       "    </tr>\n",
       "  </thead>\n",
       "  <tbody>\n",
       "    <tr>\n",
       "      <th>2020-03-06</th>\n",
       "      <td>282.00</td>\n",
       "      <td>289.03</td>\n",
       "    </tr>\n",
       "    <tr>\n",
       "      <th>2020-03-05</th>\n",
       "      <td>295.52</td>\n",
       "      <td>292.92</td>\n",
       "    </tr>\n",
       "    <tr>\n",
       "      <th>2020-03-04</th>\n",
       "      <td>296.44</td>\n",
       "      <td>302.74</td>\n",
       "    </tr>\n",
       "    <tr>\n",
       "      <th>2020-03-03</th>\n",
       "      <td>303.67</td>\n",
       "      <td>289.32</td>\n",
       "    </tr>\n",
       "  </tbody>\n",
       "</table>\n",
       "</div>"
      ],
      "text/plain": [
       "              open   close\n",
       "timestamp                 \n",
       "2020-03-06  282.00  289.03\n",
       "2020-03-05  295.52  292.92\n",
       "2020-03-04  296.44  302.74\n",
       "2020-03-03  303.67  289.32"
      ]
     },
     "execution_count": 7,
     "metadata": {},
     "output_type": "execute_result"
    }
   ],
   "source": [
    "data = pd.read_excel('AAPL.xlsx', sheet_name=\"Hoja1\")\n",
    "copia = data[['timestamp', 'open', 'close']].copy().set_index(\"timestamp\")\n",
    "\n",
    "copia.head(4)"
   ]
  },
  {
   "cell_type": "markdown",
   "metadata": {},
   "source": [
    "Algo idéntico produce el método .filter(), al que le pasamos como argumento la lista de columnas."
   ]
  },
  {
   "cell_type": "code",
   "execution_count": 8,
   "metadata": {},
   "outputs": [
    {
     "data": {
      "text/html": [
       "<div>\n",
       "<style scoped>\n",
       "    .dataframe tbody tr th:only-of-type {\n",
       "        vertical-align: middle;\n",
       "    }\n",
       "\n",
       "    .dataframe tbody tr th {\n",
       "        vertical-align: top;\n",
       "    }\n",
       "\n",
       "    .dataframe thead th {\n",
       "        text-align: right;\n",
       "    }\n",
       "</style>\n",
       "<table border=\"1\" class=\"dataframe\">\n",
       "  <thead>\n",
       "    <tr style=\"text-align: right;\">\n",
       "      <th></th>\n",
       "      <th>open</th>\n",
       "      <th>close</th>\n",
       "    </tr>\n",
       "    <tr>\n",
       "      <th>timestamp</th>\n",
       "      <th></th>\n",
       "      <th></th>\n",
       "    </tr>\n",
       "  </thead>\n",
       "  <tbody>\n",
       "    <tr>\n",
       "      <th>2020-03-06</th>\n",
       "      <td>282.00</td>\n",
       "      <td>289.03</td>\n",
       "    </tr>\n",
       "    <tr>\n",
       "      <th>2020-03-05</th>\n",
       "      <td>295.52</td>\n",
       "      <td>292.92</td>\n",
       "    </tr>\n",
       "    <tr>\n",
       "      <th>2020-03-04</th>\n",
       "      <td>296.44</td>\n",
       "      <td>302.74</td>\n",
       "    </tr>\n",
       "    <tr>\n",
       "      <th>2020-03-03</th>\n",
       "      <td>303.67</td>\n",
       "      <td>289.32</td>\n",
       "    </tr>\n",
       "  </tbody>\n",
       "</table>\n",
       "</div>"
      ],
      "text/plain": [
       "              open   close\n",
       "timestamp                 \n",
       "2020-03-06  282.00  289.03\n",
       "2020-03-05  295.52  292.92\n",
       "2020-03-04  296.44  302.74\n",
       "2020-03-03  303.67  289.32"
      ]
     },
     "execution_count": 8,
     "metadata": {},
     "output_type": "execute_result"
    }
   ],
   "source": [
    "data = pd.read_excel('AAPL.xlsx', sheet_name=\"Hoja1\")\n",
    "copia = data.filter(['timestamp', 'open', 'close']).set_index(\"timestamp\")\n",
    "\n",
    "copia.head(4)"
   ]
  },
  {
   "cell_type": "markdown",
   "metadata": {},
   "source": [
    "Algo parecido pero \"al revés\" sería crear la copia a partir del original MENOS las columnas que no queremos."
   ]
  },
  {
   "cell_type": "code",
   "execution_count": 9,
   "metadata": {},
   "outputs": [
    {
     "data": {
      "text/html": [
       "<div>\n",
       "<style scoped>\n",
       "    .dataframe tbody tr th:only-of-type {\n",
       "        vertical-align: middle;\n",
       "    }\n",
       "\n",
       "    .dataframe tbody tr th {\n",
       "        vertical-align: top;\n",
       "    }\n",
       "\n",
       "    .dataframe thead th {\n",
       "        text-align: right;\n",
       "    }\n",
       "</style>\n",
       "<table border=\"1\" class=\"dataframe\">\n",
       "  <thead>\n",
       "    <tr style=\"text-align: right;\">\n",
       "      <th></th>\n",
       "      <th>timestamp</th>\n",
       "      <th>open</th>\n",
       "      <th>close</th>\n",
       "      <th>volume</th>\n",
       "    </tr>\n",
       "  </thead>\n",
       "  <tbody>\n",
       "    <tr>\n",
       "      <th>0</th>\n",
       "      <td>2020-03-06</td>\n",
       "      <td>282.00</td>\n",
       "      <td>289.03</td>\n",
       "      <td>56544246</td>\n",
       "    </tr>\n",
       "    <tr>\n",
       "      <th>1</th>\n",
       "      <td>2020-03-05</td>\n",
       "      <td>295.52</td>\n",
       "      <td>292.92</td>\n",
       "      <td>46893219</td>\n",
       "    </tr>\n",
       "    <tr>\n",
       "      <th>2</th>\n",
       "      <td>2020-03-04</td>\n",
       "      <td>296.44</td>\n",
       "      <td>302.74</td>\n",
       "      <td>54794568</td>\n",
       "    </tr>\n",
       "    <tr>\n",
       "      <th>3</th>\n",
       "      <td>2020-03-03</td>\n",
       "      <td>303.67</td>\n",
       "      <td>289.32</td>\n",
       "      <td>79868852</td>\n",
       "    </tr>\n",
       "    <tr>\n",
       "      <th>4</th>\n",
       "      <td>2020-03-02</td>\n",
       "      <td>282.28</td>\n",
       "      <td>298.81</td>\n",
       "      <td>85349339</td>\n",
       "    </tr>\n",
       "  </tbody>\n",
       "</table>\n",
       "</div>"
      ],
      "text/plain": [
       "   timestamp    open   close    volume\n",
       "0 2020-03-06  282.00  289.03  56544246\n",
       "1 2020-03-05  295.52  292.92  46893219\n",
       "2 2020-03-04  296.44  302.74  54794568\n",
       "3 2020-03-03  303.67  289.32  79868852\n",
       "4 2020-03-02  282.28  298.81  85349339"
      ]
     },
     "execution_count": 9,
     "metadata": {},
     "output_type": "execute_result"
    }
   ],
   "source": [
    "data = pd.read_excel('AAPL.xlsx', sheet_name=\"Hoja1\")\n",
    "copia = data.drop(['high', 'low', 'adjusted_close'], axis=1)\n",
    "\n",
    "copia.head()"
   ]
  },
  {
   "cell_type": "markdown",
   "metadata": {},
   "source": [
    "### Ejercicios\n",
    "\n",
    "1- Abrir el archivo AAPL.xlsx, generar un DataFrame igual agregando una columna que contenga la variación porcentual intradiaria (entre precio de apertura y cierre sobre el precio de apertura)"
   ]
  },
  {
   "cell_type": "code",
   "execution_count": 10,
   "metadata": {},
   "outputs": [],
   "source": [
    "import pandas as pd\n",
    "\n",
    "# Cargar el archivo Excel\n",
    "archivo_excel = 'AAPL.xlsx'\n",
    "df = pd.read_excel(archivo_excel)\n",
    "\n",
    "# Calcular la variación porcentual intradiaria\n",
    "df['Variación Intradiaria (%)'] = ((df['close'] - df['open']) / df['open']) * 100\n"
   ]
  },
  {
   "cell_type": "markdown",
   "metadata": {},
   "source": [
    "2- Mostrar la tabla en pantalla, de manera que solo muestre 2 decimales de la columna calculada, y que solo muestre las dos primeras y las dos ultimas filas.\n"
   ]
  },
  {
   "cell_type": "code",
   "execution_count": 11,
   "metadata": {},
   "outputs": [
    {
     "name": "stdout",
     "output_type": "stream",
     "text": [
      "      timestamp    open    high     low   close  adjusted_close    volume  \\\n",
      "0    2020-03-06  282.00  290.82  281.23  289.03        289.0300  56544246   \n",
      "1    2020-03-05  295.52  299.55  291.41  292.92        292.9200  46893219   \n",
      "5031 2000-03-07  126.44  127.44  121.12  122.87          3.8086   2437600   \n",
      "5032 2000-03-06  126.00  129.13  125.00  125.69          3.8960   1880000   \n",
      "\n",
      "      Variación Intradiaria (%)  \n",
      "0                          2.49  \n",
      "1                         -0.88  \n",
      "5031                      -2.82  \n",
      "5032                      -0.25  \n"
     ]
    }
   ],
   "source": [
    "import pandas as pd\n",
    "\n",
    "# Cargar el archivo Excel\n",
    "archivo_excel = 'AAPL.xlsx'\n",
    "df = pd.read_excel(archivo_excel)\n",
    "\n",
    "# Calcular la variación porcentual intradiaria\n",
    "df['Variación Intradiaria (%)'] = ((df['close'] - df['open']) / df['open']) * 100\n",
    "\n",
    "# Redondear la columna calculada a 2 decimales\n",
    "df['Variación Intradiaria (%)'] = df['Variación Intradiaria (%)'].round(2)\n",
    "\n",
    "# Mostrar las dos primeras y dos últimas filas\n",
    "resultado = pd.concat([df.head(2), df.tail(2)])\n",
    "print(resultado)\n"
   ]
  },
  {
   "cell_type": "markdown",
   "metadata": {},
   "source": [
    "3- Guardar la tabla en un archivo llamado AAPL_ej.xlsx en la hoja llamada Ej3, y guardar solo las columnas de la fecha y la variación intradiaria que acabamos de calcular.\n",
    "Ayuda: Para indicarle al método to_excel que columnas quiero guardar puedo usar el atributo \"columns\""
   ]
  },
  {
   "cell_type": "code",
   "execution_count": 12,
   "metadata": {},
   "outputs": [],
   "source": [
    "import pandas as pd\n",
    "\n",
    "# Cargar el archivo Excel\n",
    "archivo_excel = 'AAPL.xlsx'\n",
    "df = pd.read_excel(archivo_excel)\n",
    "\n",
    "# Calcular la variación porcentual intradiaria\n",
    "df['Variación Intradiaria (%)'] = ((df.close - df.open) / df.open) * 100\n",
    "\n",
    "# Redondear la columna calculada a 2 decimales\n",
    "df['Variación Intradiaria (%)'] = df['Variación Intradiaria (%)'].round(2)\n",
    "\n",
    "# Seleccionar solo las columnas de la fecha y la variación intradiaria\n",
    "# df_resultado = df[['timestamp', 'Variación Intradiaria (%)']]\n",
    "\n",
    "# Guardar el DataFrame en un nuevo archivo Excel\n",
    "# df_resultado.to_excel('AAPL_ej.xlsx', sheet_name='Ej3', index=False)\n",
    "\n",
    "df.to_excel('AAPL_ej.xlsx', sheet_name='Ej3', index=False, columns=['timestamp', 'Variación Intradiaria (%)'])"
   ]
  },
  {
   "cell_type": "markdown",
   "metadata": {},
   "source": [
    "## Lectura de DataFrame y sus atributos\n",
    "### Acceso a datos de la tabla\n",
    "#### Head(n) / Tail(n)\n",
    "Estos metodos nos permiten ver los primeros/ultimos \"n\" valores de una tabla respectivamente."
   ]
  },
  {
   "cell_type": "code",
   "execution_count": 13,
   "metadata": {},
   "outputs": [
    {
     "data": {
      "text/html": [
       "<div>\n",
       "<style scoped>\n",
       "    .dataframe tbody tr th:only-of-type {\n",
       "        vertical-align: middle;\n",
       "    }\n",
       "\n",
       "    .dataframe tbody tr th {\n",
       "        vertical-align: top;\n",
       "    }\n",
       "\n",
       "    .dataframe thead th {\n",
       "        text-align: right;\n",
       "    }\n",
       "</style>\n",
       "<table border=\"1\" class=\"dataframe\">\n",
       "  <thead>\n",
       "    <tr style=\"text-align: right;\">\n",
       "      <th></th>\n",
       "      <th>timestamp</th>\n",
       "      <th>open</th>\n",
       "      <th>high</th>\n",
       "      <th>low</th>\n",
       "      <th>close</th>\n",
       "      <th>adjusted_close</th>\n",
       "      <th>volume</th>\n",
       "    </tr>\n",
       "  </thead>\n",
       "  <tbody>\n",
       "    <tr>\n",
       "      <th>0</th>\n",
       "      <td>2020-03-06</td>\n",
       "      <td>282.00</td>\n",
       "      <td>290.82</td>\n",
       "      <td>281.23</td>\n",
       "      <td>289.03</td>\n",
       "      <td>289.03</td>\n",
       "      <td>56544246</td>\n",
       "    </tr>\n",
       "    <tr>\n",
       "      <th>1</th>\n",
       "      <td>2020-03-05</td>\n",
       "      <td>295.52</td>\n",
       "      <td>299.55</td>\n",
       "      <td>291.41</td>\n",
       "      <td>292.92</td>\n",
       "      <td>292.92</td>\n",
       "      <td>46893219</td>\n",
       "    </tr>\n",
       "    <tr>\n",
       "      <th>2</th>\n",
       "      <td>2020-03-04</td>\n",
       "      <td>296.44</td>\n",
       "      <td>303.40</td>\n",
       "      <td>293.13</td>\n",
       "      <td>302.74</td>\n",
       "      <td>302.74</td>\n",
       "      <td>54794568</td>\n",
       "    </tr>\n",
       "  </tbody>\n",
       "</table>\n",
       "</div>"
      ],
      "text/plain": [
       "   timestamp    open    high     low   close  adjusted_close    volume\n",
       "0 2020-03-06  282.00  290.82  281.23  289.03          289.03  56544246\n",
       "1 2020-03-05  295.52  299.55  291.41  292.92          292.92  46893219\n",
       "2 2020-03-04  296.44  303.40  293.13  302.74          302.74  54794568"
      ]
     },
     "execution_count": 13,
     "metadata": {},
     "output_type": "execute_result"
    }
   ],
   "source": [
    "import pandas as pd\n",
    "pd.options.display.max_rows = 8\n",
    "data = pd.read_excel('AAPL.xlsx', sheet_name='Hoja1')\n",
    "data.head(3)"
   ]
  },
  {
   "cell_type": "markdown",
   "metadata": {},
   "source": [
    "Si en lugar de head usamos tail, obviamente vamos a acceder a la cola de los datos."
   ]
  },
  {
   "cell_type": "code",
   "execution_count": 14,
   "metadata": {},
   "outputs": [
    {
     "data": {
      "text/html": [
       "<div>\n",
       "<style scoped>\n",
       "    .dataframe tbody tr th:only-of-type {\n",
       "        vertical-align: middle;\n",
       "    }\n",
       "\n",
       "    .dataframe tbody tr th {\n",
       "        vertical-align: top;\n",
       "    }\n",
       "\n",
       "    .dataframe thead th {\n",
       "        text-align: right;\n",
       "    }\n",
       "</style>\n",
       "<table border=\"1\" class=\"dataframe\">\n",
       "  <thead>\n",
       "    <tr style=\"text-align: right;\">\n",
       "      <th></th>\n",
       "      <th>timestamp</th>\n",
       "      <th>open</th>\n",
       "      <th>high</th>\n",
       "      <th>low</th>\n",
       "      <th>close</th>\n",
       "      <th>adjusted_close</th>\n",
       "      <th>volume</th>\n",
       "    </tr>\n",
       "  </thead>\n",
       "  <tbody>\n",
       "    <tr>\n",
       "      <th>5029</th>\n",
       "      <td>2000-03-09</td>\n",
       "      <td>120.87</td>\n",
       "      <td>125.00</td>\n",
       "      <td>118.25</td>\n",
       "      <td>122.25</td>\n",
       "      <td>3.7894</td>\n",
       "      <td>2470700</td>\n",
       "    </tr>\n",
       "    <tr>\n",
       "      <th>5030</th>\n",
       "      <td>2000-03-08</td>\n",
       "      <td>122.87</td>\n",
       "      <td>123.94</td>\n",
       "      <td>118.56</td>\n",
       "      <td>122.00</td>\n",
       "      <td>3.7816</td>\n",
       "      <td>2421700</td>\n",
       "    </tr>\n",
       "    <tr>\n",
       "      <th>5031</th>\n",
       "      <td>2000-03-07</td>\n",
       "      <td>126.44</td>\n",
       "      <td>127.44</td>\n",
       "      <td>121.12</td>\n",
       "      <td>122.87</td>\n",
       "      <td>3.8086</td>\n",
       "      <td>2437600</td>\n",
       "    </tr>\n",
       "    <tr>\n",
       "      <th>5032</th>\n",
       "      <td>2000-03-06</td>\n",
       "      <td>126.00</td>\n",
       "      <td>129.13</td>\n",
       "      <td>125.00</td>\n",
       "      <td>125.69</td>\n",
       "      <td>3.8960</td>\n",
       "      <td>1880000</td>\n",
       "    </tr>\n",
       "  </tbody>\n",
       "</table>\n",
       "</div>"
      ],
      "text/plain": [
       "      timestamp    open    high     low   close  adjusted_close   volume\n",
       "5029 2000-03-09  120.87  125.00  118.25  122.25          3.7894  2470700\n",
       "5030 2000-03-08  122.87  123.94  118.56  122.00          3.7816  2421700\n",
       "5031 2000-03-07  126.44  127.44  121.12  122.87          3.8086  2437600\n",
       "5032 2000-03-06  126.00  129.13  125.00  125.69          3.8960  1880000"
      ]
     },
     "execution_count": 14,
     "metadata": {},
     "output_type": "execute_result"
    }
   ],
   "source": [
    "data.tail(4)"
   ]
  },
  {
   "cell_type": "markdown",
   "metadata": {},
   "source": [
    "#### Métodos loc e iloc\n",
    "\n",
    "Con estos métodos accederemos a cualquier elemento o rango de elementos de un DataFrame.\n",
    "La estructura es la siguiente: data.iloc[filas, columnas]\n",
    "La diferencia entre \"loc\" e \"iloc\" es que \"iloc\" llama a los indices y \"loc\" llama a los nombres de los elementos.\n",
    "Por lo general a las filas se las accede con indices numéricos o en su defecto de fechas mientras que las columnas pueden llamarse de ambas formas.\n",
    "Empecemos por las filas\n",
    "*Seleccionamos un solo elemento*\n",
    "Para seleccionar un solo elemento usamos la locacion concreta a la que queremos referirnos.\n",
    "La locación loc es el valor del indice\n",
    "La locación iloc es el numero de elemento (fila) del dataframe, empezando a contar desde el 0."
   ]
  },
  {
   "cell_type": "code",
   "execution_count": 15,
   "metadata": {},
   "outputs": [
    {
     "data": {
      "text/plain": [
       "timestamp         2020-03-04 00:00:00\n",
       "open                           296.44\n",
       "high                            303.4\n",
       "low                            293.13\n",
       "close                          302.74\n",
       "adjusted_close                 302.74\n",
       "volume                       54794568\n",
       "Name: 2, dtype: object"
      ]
     },
     "execution_count": 15,
     "metadata": {},
     "output_type": "execute_result"
    }
   ],
   "source": [
    "data.loc[2]"
   ]
  },
  {
   "cell_type": "code",
   "execution_count": 16,
   "metadata": {},
   "outputs": [
    {
     "data": {
      "text/plain": [
       "timestamp         2020-03-04 00:00:00\n",
       "open                           296.44\n",
       "high                            303.4\n",
       "low                            293.13\n",
       "close                          302.74\n",
       "adjusted_close                 302.74\n",
       "volume                       54794568\n",
       "Name: 2, dtype: object"
      ]
     },
     "execution_count": 16,
     "metadata": {},
     "output_type": "execute_result"
    }
   ],
   "source": [
    "data.iloc[2]"
   ]
  },
  {
   "cell_type": "markdown",
   "metadata": {},
   "source": [
    "Como podemos ver, la locacion loc y la locacion del valor indice iloc en este caso coincide. Esto es asi porque nuestro indice es un indice numerico.\n",
    "Para entender mejor la diferencia entre loc e iloc vamos a crear una tabla o DataFrame igual a la anterior, pero le vamos a poner como indice la fecha en lugar del indice numérico con que viene la tabla original."
   ]
  },
  {
   "cell_type": "code",
   "execution_count": 17,
   "metadata": {},
   "outputs": [
    {
     "data": {
      "text/html": [
       "<div>\n",
       "<style scoped>\n",
       "    .dataframe tbody tr th:only-of-type {\n",
       "        vertical-align: middle;\n",
       "    }\n",
       "\n",
       "    .dataframe tbody tr th {\n",
       "        vertical-align: top;\n",
       "    }\n",
       "\n",
       "    .dataframe thead th {\n",
       "        text-align: right;\n",
       "    }\n",
       "</style>\n",
       "<table border=\"1\" class=\"dataframe\">\n",
       "  <thead>\n",
       "    <tr style=\"text-align: right;\">\n",
       "      <th></th>\n",
       "      <th>open</th>\n",
       "      <th>high</th>\n",
       "      <th>low</th>\n",
       "      <th>close</th>\n",
       "      <th>adjusted_close</th>\n",
       "      <th>volume</th>\n",
       "    </tr>\n",
       "    <tr>\n",
       "      <th>timestamp</th>\n",
       "      <th></th>\n",
       "      <th></th>\n",
       "      <th></th>\n",
       "      <th></th>\n",
       "      <th></th>\n",
       "      <th></th>\n",
       "    </tr>\n",
       "  </thead>\n",
       "  <tbody>\n",
       "    <tr>\n",
       "      <th>2020-03-06</th>\n",
       "      <td>282.00</td>\n",
       "      <td>290.82</td>\n",
       "      <td>281.23</td>\n",
       "      <td>289.03</td>\n",
       "      <td>289.0300</td>\n",
       "      <td>56544246</td>\n",
       "    </tr>\n",
       "    <tr>\n",
       "      <th>2020-03-05</th>\n",
       "      <td>295.52</td>\n",
       "      <td>299.55</td>\n",
       "      <td>291.41</td>\n",
       "      <td>292.92</td>\n",
       "      <td>292.9200</td>\n",
       "      <td>46893219</td>\n",
       "    </tr>\n",
       "    <tr>\n",
       "      <th>2020-03-04</th>\n",
       "      <td>296.44</td>\n",
       "      <td>303.40</td>\n",
       "      <td>293.13</td>\n",
       "      <td>302.74</td>\n",
       "      <td>302.7400</td>\n",
       "      <td>54794568</td>\n",
       "    </tr>\n",
       "    <tr>\n",
       "      <th>2020-03-03</th>\n",
       "      <td>303.67</td>\n",
       "      <td>304.00</td>\n",
       "      <td>285.80</td>\n",
       "      <td>289.32</td>\n",
       "      <td>289.3200</td>\n",
       "      <td>79868852</td>\n",
       "    </tr>\n",
       "    <tr>\n",
       "      <th>...</th>\n",
       "      <td>...</td>\n",
       "      <td>...</td>\n",
       "      <td>...</td>\n",
       "      <td>...</td>\n",
       "      <td>...</td>\n",
       "      <td>...</td>\n",
       "    </tr>\n",
       "    <tr>\n",
       "      <th>2000-03-09</th>\n",
       "      <td>120.87</td>\n",
       "      <td>125.00</td>\n",
       "      <td>118.25</td>\n",
       "      <td>122.25</td>\n",
       "      <td>3.7894</td>\n",
       "      <td>2470700</td>\n",
       "    </tr>\n",
       "    <tr>\n",
       "      <th>2000-03-08</th>\n",
       "      <td>122.87</td>\n",
       "      <td>123.94</td>\n",
       "      <td>118.56</td>\n",
       "      <td>122.00</td>\n",
       "      <td>3.7816</td>\n",
       "      <td>2421700</td>\n",
       "    </tr>\n",
       "    <tr>\n",
       "      <th>2000-03-07</th>\n",
       "      <td>126.44</td>\n",
       "      <td>127.44</td>\n",
       "      <td>121.12</td>\n",
       "      <td>122.87</td>\n",
       "      <td>3.8086</td>\n",
       "      <td>2437600</td>\n",
       "    </tr>\n",
       "    <tr>\n",
       "      <th>2000-03-06</th>\n",
       "      <td>126.00</td>\n",
       "      <td>129.13</td>\n",
       "      <td>125.00</td>\n",
       "      <td>125.69</td>\n",
       "      <td>3.8960</td>\n",
       "      <td>1880000</td>\n",
       "    </tr>\n",
       "  </tbody>\n",
       "</table>\n",
       "<p>5033 rows × 6 columns</p>\n",
       "</div>"
      ],
      "text/plain": [
       "              open    high     low   close  adjusted_close    volume\n",
       "timestamp                                                           \n",
       "2020-03-06  282.00  290.82  281.23  289.03        289.0300  56544246\n",
       "2020-03-05  295.52  299.55  291.41  292.92        292.9200  46893219\n",
       "2020-03-04  296.44  303.40  293.13  302.74        302.7400  54794568\n",
       "2020-03-03  303.67  304.00  285.80  289.32        289.3200  79868852\n",
       "...            ...     ...     ...     ...             ...       ...\n",
       "2000-03-09  120.87  125.00  118.25  122.25          3.7894   2470700\n",
       "2000-03-08  122.87  123.94  118.56  122.00          3.7816   2421700\n",
       "2000-03-07  126.44  127.44  121.12  122.87          3.8086   2437600\n",
       "2000-03-06  126.00  129.13  125.00  125.69          3.8960   1880000\n",
       "\n",
       "[5033 rows x 6 columns]"
      ]
     },
     "execution_count": 17,
     "metadata": {},
     "output_type": "execute_result"
    }
   ],
   "source": [
    "import pandas as pd\n",
    "pd.options.display.max_rows = 8\n",
    "data = pd.read_excel(\"AAPL.xlsx\", sheet_name=\"Hoja1\")\n",
    "dataIndiceFecha = data.set_index(\"timestamp\")\n",
    "dataIndiceFecha"
   ]
  },
  {
   "cell_type": "markdown",
   "metadata": {},
   "source": [
    "Ahora vamos a acceder al tercer valor de la serie, el 5 de marzo, con los metodos loc e iloc respectivamente.\n",
    "\n",
    "En el caso del iloc sigue siendo igual que antes, ya que este método llama al \"n\" elemento de la tabla, y no depende del indice.\n",
    "\n",
    "Ahora al referirnos a la locacion del indice, como cambiamos al indice ya no puedo llamar al elemento \"2\" porque ese elemento ya no existe, porque va a ir a buscar ese elemento al indice y se va a encontrar con solo con valores de fecha, entonces aca le tengo que poner la fecha exacta que quiero que me devuelva"
   ]
  },
  {
   "cell_type": "code",
   "execution_count": 18,
   "metadata": {},
   "outputs": [
    {
     "data": {
      "text/plain": [
       "open                   296.44\n",
       "high                   303.40\n",
       "low                    293.13\n",
       "close                  302.74\n",
       "adjusted_close         302.74\n",
       "volume            54794568.00\n",
       "Name: 2020-03-04 00:00:00, dtype: float64"
      ]
     },
     "execution_count": 18,
     "metadata": {},
     "output_type": "execute_result"
    }
   ],
   "source": [
    "dataIndiceFecha.loc[\"2020-03-04\"]"
   ]
  },
  {
   "cell_type": "code",
   "execution_count": 19,
   "metadata": {},
   "outputs": [
    {
     "data": {
      "text/plain": [
       "open                   296.44\n",
       "high                   303.40\n",
       "low                    293.13\n",
       "close                  302.74\n",
       "adjusted_close         302.74\n",
       "volume            54794568.00\n",
       "Name: 2020-03-04 00:00:00, dtype: float64"
      ]
     },
     "execution_count": 19,
     "metadata": {},
     "output_type": "execute_result"
    }
   ],
   "source": [
    "dataIndiceFecha.iloc[2]"
   ]
  },
  {
   "cell_type": "markdown",
   "metadata": {},
   "source": [
    "### Seleccionamos algunos elementos cualquiera de la tabla\n",
    "\n",
    "Para ello le pedimos un listado de elementos separados con coma, como todo listado lo ponemos entre [] "
   ]
  },
  {
   "cell_type": "code",
   "execution_count": 20,
   "metadata": {},
   "outputs": [
    {
     "data": {
      "text/html": [
       "<div>\n",
       "<style scoped>\n",
       "    .dataframe tbody tr th:only-of-type {\n",
       "        vertical-align: middle;\n",
       "    }\n",
       "\n",
       "    .dataframe tbody tr th {\n",
       "        vertical-align: top;\n",
       "    }\n",
       "\n",
       "    .dataframe thead th {\n",
       "        text-align: right;\n",
       "    }\n",
       "</style>\n",
       "<table border=\"1\" class=\"dataframe\">\n",
       "  <thead>\n",
       "    <tr style=\"text-align: right;\">\n",
       "      <th></th>\n",
       "      <th>timestamp</th>\n",
       "      <th>open</th>\n",
       "      <th>high</th>\n",
       "      <th>low</th>\n",
       "      <th>close</th>\n",
       "      <th>adjusted_close</th>\n",
       "      <th>volume</th>\n",
       "    </tr>\n",
       "  </thead>\n",
       "  <tbody>\n",
       "    <tr>\n",
       "      <th>2</th>\n",
       "      <td>2020-03-04</td>\n",
       "      <td>296.44</td>\n",
       "      <td>303.40</td>\n",
       "      <td>293.13</td>\n",
       "      <td>302.74</td>\n",
       "      <td>302.74</td>\n",
       "      <td>54794568</td>\n",
       "    </tr>\n",
       "    <tr>\n",
       "      <th>4</th>\n",
       "      <td>2020-03-02</td>\n",
       "      <td>282.28</td>\n",
       "      <td>301.44</td>\n",
       "      <td>277.72</td>\n",
       "      <td>298.81</td>\n",
       "      <td>298.81</td>\n",
       "      <td>85349339</td>\n",
       "    </tr>\n",
       "  </tbody>\n",
       "</table>\n",
       "</div>"
      ],
      "text/plain": [
       "   timestamp    open    high     low   close  adjusted_close    volume\n",
       "2 2020-03-04  296.44  303.40  293.13  302.74          302.74  54794568\n",
       "4 2020-03-02  282.28  301.44  277.72  298.81          298.81  85349339"
      ]
     },
     "execution_count": 20,
     "metadata": {},
     "output_type": "execute_result"
    }
   ],
   "source": [
    "data.iloc[[2,4]]"
   ]
  },
  {
   "cell_type": "markdown",
   "metadata": {},
   "source": [
    "### Seleccionamos un rango de filas dentro de una tabla\n",
    "\n",
    "Para ello, indicamos el rango como desde:hasta"
   ]
  },
  {
   "cell_type": "code",
   "execution_count": 21,
   "metadata": {},
   "outputs": [
    {
     "data": {
      "text/html": [
       "<div>\n",
       "<style scoped>\n",
       "    .dataframe tbody tr th:only-of-type {\n",
       "        vertical-align: middle;\n",
       "    }\n",
       "\n",
       "    .dataframe tbody tr th {\n",
       "        vertical-align: top;\n",
       "    }\n",
       "\n",
       "    .dataframe thead th {\n",
       "        text-align: right;\n",
       "    }\n",
       "</style>\n",
       "<table border=\"1\" class=\"dataframe\">\n",
       "  <thead>\n",
       "    <tr style=\"text-align: right;\">\n",
       "      <th></th>\n",
       "      <th>timestamp</th>\n",
       "      <th>open</th>\n",
       "      <th>high</th>\n",
       "      <th>low</th>\n",
       "      <th>close</th>\n",
       "      <th>adjusted_close</th>\n",
       "      <th>volume</th>\n",
       "    </tr>\n",
       "  </thead>\n",
       "  <tbody>\n",
       "    <tr>\n",
       "      <th>2</th>\n",
       "      <td>2020-03-04</td>\n",
       "      <td>296.44</td>\n",
       "      <td>303.40</td>\n",
       "      <td>293.13</td>\n",
       "      <td>302.74</td>\n",
       "      <td>302.74</td>\n",
       "      <td>54794568</td>\n",
       "    </tr>\n",
       "    <tr>\n",
       "      <th>3</th>\n",
       "      <td>2020-03-03</td>\n",
       "      <td>303.67</td>\n",
       "      <td>304.00</td>\n",
       "      <td>285.80</td>\n",
       "      <td>289.32</td>\n",
       "      <td>289.32</td>\n",
       "      <td>79868852</td>\n",
       "    </tr>\n",
       "    <tr>\n",
       "      <th>4</th>\n",
       "      <td>2020-03-02</td>\n",
       "      <td>282.28</td>\n",
       "      <td>301.44</td>\n",
       "      <td>277.72</td>\n",
       "      <td>298.81</td>\n",
       "      <td>298.81</td>\n",
       "      <td>85349339</td>\n",
       "    </tr>\n",
       "  </tbody>\n",
       "</table>\n",
       "</div>"
      ],
      "text/plain": [
       "   timestamp    open    high     low   close  adjusted_close    volume\n",
       "2 2020-03-04  296.44  303.40  293.13  302.74          302.74  54794568\n",
       "3 2020-03-03  303.67  304.00  285.80  289.32          289.32  79868852\n",
       "4 2020-03-02  282.28  301.44  277.72  298.81          298.81  85349339"
      ]
     },
     "execution_count": 21,
     "metadata": {},
     "output_type": "execute_result"
    }
   ],
   "source": [
    "data.loc[2:4]"
   ]
  },
  {
   "cell_type": "markdown",
   "metadata": {},
   "source": [
    "El metodo loc llama a los nombres, es decir, llama a todos los elementos que se llaman 2, 3 o 4, pero el metodo iloc llama a los indices, y ahi aplica un criterio numérico que es desde inclusive hasta no inclusive"
   ]
  },
  {
   "cell_type": "code",
   "execution_count": 22,
   "metadata": {},
   "outputs": [
    {
     "data": {
      "text/html": [
       "<div>\n",
       "<style scoped>\n",
       "    .dataframe tbody tr th:only-of-type {\n",
       "        vertical-align: middle;\n",
       "    }\n",
       "\n",
       "    .dataframe tbody tr th {\n",
       "        vertical-align: top;\n",
       "    }\n",
       "\n",
       "    .dataframe thead th {\n",
       "        text-align: right;\n",
       "    }\n",
       "</style>\n",
       "<table border=\"1\" class=\"dataframe\">\n",
       "  <thead>\n",
       "    <tr style=\"text-align: right;\">\n",
       "      <th></th>\n",
       "      <th>timestamp</th>\n",
       "      <th>open</th>\n",
       "      <th>high</th>\n",
       "      <th>low</th>\n",
       "      <th>close</th>\n",
       "      <th>adjusted_close</th>\n",
       "      <th>volume</th>\n",
       "    </tr>\n",
       "  </thead>\n",
       "  <tbody>\n",
       "    <tr>\n",
       "      <th>2</th>\n",
       "      <td>2020-03-04</td>\n",
       "      <td>296.44</td>\n",
       "      <td>303.4</td>\n",
       "      <td>293.13</td>\n",
       "      <td>302.74</td>\n",
       "      <td>302.74</td>\n",
       "      <td>54794568</td>\n",
       "    </tr>\n",
       "    <tr>\n",
       "      <th>3</th>\n",
       "      <td>2020-03-03</td>\n",
       "      <td>303.67</td>\n",
       "      <td>304.0</td>\n",
       "      <td>285.80</td>\n",
       "      <td>289.32</td>\n",
       "      <td>289.32</td>\n",
       "      <td>79868852</td>\n",
       "    </tr>\n",
       "  </tbody>\n",
       "</table>\n",
       "</div>"
      ],
      "text/plain": [
       "   timestamp    open   high     low   close  adjusted_close    volume\n",
       "2 2020-03-04  296.44  303.4  293.13  302.74          302.74  54794568\n",
       "3 2020-03-03  303.67  304.0  285.80  289.32          289.32  79868852"
      ]
     },
     "execution_count": 22,
     "metadata": {},
     "output_type": "execute_result"
    }
   ],
   "source": [
    "data.iloc[2:4]"
   ]
  },
  {
   "cell_type": "markdown",
   "metadata": {},
   "source": [
    "Y como seria algo asi con iloc si tenemos como indice una fecha?"
   ]
  },
  {
   "cell_type": "code",
   "execution_count": 23,
   "metadata": {},
   "outputs": [
    {
     "ename": "KeyError",
     "evalue": "'Value based partial slicing on non-monotonic DatetimeIndexes with non-existing keys is not allowed.'",
     "output_type": "error",
     "traceback": [
      "\u001b[1;31m---------------------------------------------------------------------------\u001b[0m",
      "\u001b[1;31mKeyError\u001b[0m                                  Traceback (most recent call last)",
      "Cell \u001b[1;32mIn[23], line 1\u001b[0m\n\u001b[1;32m----> 1\u001b[0m dataIndiceFecha\u001b[38;5;241m.\u001b[39mloc[\u001b[38;5;124m\"\u001b[39m\u001b[38;5;124m2020-03-04\u001b[39m\u001b[38;5;124m\"\u001b[39m:\u001b[38;5;124m\"\u001b[39m\u001b[38;5;124m2020-03-02\u001b[39m\u001b[38;5;124m\"\u001b[39m]\n",
      "File \u001b[1;32mc:\\ProgramData\\anaconda3\\Lib\\site-packages\\pandas\\core\\indexing.py:1191\u001b[0m, in \u001b[0;36m_LocationIndexer.__getitem__\u001b[1;34m(self, key)\u001b[0m\n\u001b[0;32m   1189\u001b[0m maybe_callable \u001b[38;5;241m=\u001b[39m com\u001b[38;5;241m.\u001b[39mapply_if_callable(key, \u001b[38;5;28mself\u001b[39m\u001b[38;5;241m.\u001b[39mobj)\n\u001b[0;32m   1190\u001b[0m maybe_callable \u001b[38;5;241m=\u001b[39m \u001b[38;5;28mself\u001b[39m\u001b[38;5;241m.\u001b[39m_check_deprecated_callable_usage(key, maybe_callable)\n\u001b[1;32m-> 1191\u001b[0m \u001b[38;5;28;01mreturn\u001b[39;00m \u001b[38;5;28mself\u001b[39m\u001b[38;5;241m.\u001b[39m_getitem_axis(maybe_callable, axis\u001b[38;5;241m=\u001b[39maxis)\n",
      "File \u001b[1;32mc:\\ProgramData\\anaconda3\\Lib\\site-packages\\pandas\\core\\indexing.py:1411\u001b[0m, in \u001b[0;36m_LocIndexer._getitem_axis\u001b[1;34m(self, key, axis)\u001b[0m\n\u001b[0;32m   1409\u001b[0m \u001b[38;5;28;01mif\u001b[39;00m \u001b[38;5;28misinstance\u001b[39m(key, \u001b[38;5;28mslice\u001b[39m):\n\u001b[0;32m   1410\u001b[0m     \u001b[38;5;28mself\u001b[39m\u001b[38;5;241m.\u001b[39m_validate_key(key, axis)\n\u001b[1;32m-> 1411\u001b[0m     \u001b[38;5;28;01mreturn\u001b[39;00m \u001b[38;5;28mself\u001b[39m\u001b[38;5;241m.\u001b[39m_get_slice_axis(key, axis\u001b[38;5;241m=\u001b[39maxis)\n\u001b[0;32m   1412\u001b[0m \u001b[38;5;28;01melif\u001b[39;00m com\u001b[38;5;241m.\u001b[39mis_bool_indexer(key):\n\u001b[0;32m   1413\u001b[0m     \u001b[38;5;28;01mreturn\u001b[39;00m \u001b[38;5;28mself\u001b[39m\u001b[38;5;241m.\u001b[39m_getbool_axis(key, axis\u001b[38;5;241m=\u001b[39maxis)\n",
      "File \u001b[1;32mc:\\ProgramData\\anaconda3\\Lib\\site-packages\\pandas\\core\\indexing.py:1443\u001b[0m, in \u001b[0;36m_LocIndexer._get_slice_axis\u001b[1;34m(self, slice_obj, axis)\u001b[0m\n\u001b[0;32m   1440\u001b[0m     \u001b[38;5;28;01mreturn\u001b[39;00m obj\u001b[38;5;241m.\u001b[39mcopy(deep\u001b[38;5;241m=\u001b[39m\u001b[38;5;28;01mFalse\u001b[39;00m)\n\u001b[0;32m   1442\u001b[0m labels \u001b[38;5;241m=\u001b[39m obj\u001b[38;5;241m.\u001b[39m_get_axis(axis)\n\u001b[1;32m-> 1443\u001b[0m indexer \u001b[38;5;241m=\u001b[39m labels\u001b[38;5;241m.\u001b[39mslice_indexer(slice_obj\u001b[38;5;241m.\u001b[39mstart, slice_obj\u001b[38;5;241m.\u001b[39mstop, slice_obj\u001b[38;5;241m.\u001b[39mstep)\n\u001b[0;32m   1445\u001b[0m \u001b[38;5;28;01mif\u001b[39;00m \u001b[38;5;28misinstance\u001b[39m(indexer, \u001b[38;5;28mslice\u001b[39m):\n\u001b[0;32m   1446\u001b[0m     \u001b[38;5;28;01mreturn\u001b[39;00m \u001b[38;5;28mself\u001b[39m\u001b[38;5;241m.\u001b[39mobj\u001b[38;5;241m.\u001b[39m_slice(indexer, axis\u001b[38;5;241m=\u001b[39maxis)\n",
      "File \u001b[1;32mc:\\ProgramData\\anaconda3\\Lib\\site-packages\\pandas\\core\\indexes\\datetimes.py:697\u001b[0m, in \u001b[0;36mDatetimeIndex.slice_indexer\u001b[1;34m(self, start, end, step)\u001b[0m\n\u001b[0;32m    694\u001b[0m     in_index \u001b[38;5;241m&\u001b[39m\u001b[38;5;241m=\u001b[39m (end_casted \u001b[38;5;241m==\u001b[39m \u001b[38;5;28mself\u001b[39m)\u001b[38;5;241m.\u001b[39many()\n\u001b[0;32m    696\u001b[0m \u001b[38;5;28;01mif\u001b[39;00m \u001b[38;5;129;01mnot\u001b[39;00m in_index:\n\u001b[1;32m--> 697\u001b[0m     \u001b[38;5;28;01mraise\u001b[39;00m \u001b[38;5;167;01mKeyError\u001b[39;00m(\n\u001b[0;32m    698\u001b[0m         \u001b[38;5;124m\"\u001b[39m\u001b[38;5;124mValue based partial slicing on non-monotonic DatetimeIndexes \u001b[39m\u001b[38;5;124m\"\u001b[39m\n\u001b[0;32m    699\u001b[0m         \u001b[38;5;124m\"\u001b[39m\u001b[38;5;124mwith non-existing keys is not allowed.\u001b[39m\u001b[38;5;124m\"\u001b[39m,\n\u001b[0;32m    700\u001b[0m     )\n\u001b[0;32m    701\u001b[0m indexer \u001b[38;5;241m=\u001b[39m mask\u001b[38;5;241m.\u001b[39mnonzero()[\u001b[38;5;241m0\u001b[39m][::step]\n\u001b[0;32m    702\u001b[0m \u001b[38;5;28;01mif\u001b[39;00m \u001b[38;5;28mlen\u001b[39m(indexer) \u001b[38;5;241m==\u001b[39m \u001b[38;5;28mlen\u001b[39m(\u001b[38;5;28mself\u001b[39m):\n",
      "\u001b[1;31mKeyError\u001b[0m: 'Value based partial slicing on non-monotonic DatetimeIndexes with non-existing keys is not allowed.'"
     ]
    }
   ],
   "source": [
    "dataIndiceFecha.loc[\"2020-03-04\":\"2020-03-02\"]"
   ]
  }
 ],
 "metadata": {
  "kernelspec": {
   "display_name": "base",
   "language": "python",
   "name": "python3"
  },
  "language_info": {
   "codemirror_mode": {
    "name": "ipython",
    "version": 3
   },
   "file_extension": ".py",
   "mimetype": "text/x-python",
   "name": "python",
   "nbconvert_exporter": "python",
   "pygments_lexer": "ipython3",
   "version": "3.12.4"
  }
 },
 "nbformat": 4,
 "nbformat_minor": 2
}
